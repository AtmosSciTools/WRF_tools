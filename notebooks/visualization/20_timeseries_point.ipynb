{
 "cells": [
  {
   "cell_type": "markdown",
   "id": "b543e4bd",
   "metadata": {},
   "source": [
    "# Plot timeseries"
   ]
  },
  {
   "cell_type": "code",
   "execution_count": null,
   "id": "9ffeaf7d",
   "metadata": {},
   "outputs": [],
   "source": [
    "import os\n",
    "import xarray as xr\n",
    "import matplotlib.pyplot as plt\n",
    "\n",
    "\n",
    "# ファイル読み込み\n",
    "domain_id = 'Bangkok'\n",
    "geo_em_d1 = f'../../samples/{domain_id}/geo_em.d01.nc'\n",
    "geo_em_d2 = f'../../samples/{domain_id}/geo_em.d02.nc'\n",
    "geo_em_d3 = f'../../samples/{domain_id}/geo_em.d03.nc'"
   ]
  }
 ],
 "metadata": {
  "kernelspec": {
   "display_name": "wrf-tool",
   "language": "python",
   "name": "python3"
  },
  "language_info": {
   "codemirror_mode": {
    "name": "ipython",
    "version": 3
   },
   "file_extension": ".py",
   "mimetype": "text/x-python",
   "name": "python",
   "nbconvert_exporter": "python",
   "pygments_lexer": "ipython3",
   "version": "3.12.7"
  }
 },
 "nbformat": 4,
 "nbformat_minor": 5
}
